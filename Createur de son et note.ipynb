{
 "cells": [
  {
   "cell_type": "code",
   "execution_count": 2,
   "metadata": {},
   "outputs": [],
   "source": [
    "import numpy as np\n",
    "from scipy.io import wavfile as io\n",
    "import matplotlib.pyplot as plt \n",
    "from playsound import playsound\n",
    "from scipy import signal\n",
    "from scipy.fftpack import fft, fftshift\n",
    "import matplotlib.pyplot as plt\n",
    "import numpy as np\n",
    "from scipy.io import wavfile as io\n",
    "import os\n",
    "\n",
    "\n",
    "\n",
    "def normaliser_son_mono(x):\n",
    "    M = np.max(abs(x)); ## la plus grande valeur absolue du signal\n",
    "    return  x/M;\n",
    "\n",
    "def file(name_file,signal,rate):\n",
    "    signal = 0.7*normaliser_son_mono(signal)  ##pour protéger vos oreilles des saturations de vos enceintes \n",
    "    scaled = np.round(32767*signal)\n",
    "    signal = scaled.astype(np.int16)\n",
    "    io.write(name_file, rate, signal)\n",
    "\n",
    "\n",
    "def son(f0,durée_note):\n",
    "    fe = 44100  \n",
    "    te = 1/fe\n",
    "    t= np.arange(0, durée_note, te)\n",
    "    return np.cos(2*(np.pi)*f0*t)*2* np.sin(t*(np.pi)/durée_note)\n",
    "\n",
    "def calcul_periodogramme(x,Fe):\n",
    "    ### périodogramme moyenné. Sections de 0.1 seconde\n",
    "    N=len(x)\n",
    "    N1=int(np.floor(0.1*Fe))\n",
    "    K=int(np.floor(N/N1))\n",
    "    w=signal.hamming(N1)\n",
    "    ind1 = 0\n",
    "    ind2 = N1-1\n",
    "    b = w*x[ind1:(ind2+1)] \n",
    "    f, B = signal.periodogram(b, Fe)\n",
    "    B=B/N1\n",
    "    while ind2+N1<N:\n",
    "        ind1=ind1+N1\n",
    "        ind2=ind2+N1\n",
    "        b=w*x[ind1:(ind2+1)]\n",
    "        f, aux = signal.periodogram(b, Fe)\n",
    "        B=B+aux/N1\n",
    "    B=B/K\n",
    "    #B=10*np.log10(B)\n",
    "    return(f,B)\n"
   ]
  },
  {
   "cell_type": "code",
   "execution_count": 10,
   "metadata": {},
   "outputs": [
    {
     "name": "stdout",
     "output_type": "stream",
     "text": [
      "[233.08188076 246.94165063 261.6255653 ]\n"
     ]
    },
    {
     "data": {
      "image/png": "[encoded data removed]",
      "text/plain": [
       "<Figure size 432x288 with 1 Axes>"
      ]
     },
     "metadata": {
      "needs_background": "light"
     },
     "output_type": "display_data"
    },
    {
     "data": {
      "image/png": "[encoded data removed]",
      "text/plain": [
       "<Figure size 432x288 with 1 Axes>"
      ]
     },
     "metadata": {
      "needs_background": "light"
     },
     "output_type": "display_data"
    }
   ],
   "source": [
    "def Gamme_temperée(Nb_Octave, note_fondamental):\n",
    "    alpha = 2**(1/12)\n",
    "    OCTAVE = np.zeros(1+12*Nb_Octave)\n",
    "    for i in range (1+12*Nb_Octave):\n",
    "        OCTAVE[i]= note_fondamental*(alpha**i)\n",
    "    return OCTAVE\n",
    "\n",
    "def creation_liste_note(fondamental_gamme, liste_indice_note):\n",
    "    gamme = Gamme_temperée(2,fondamental_gamme)\n",
    "    res =  np.zeros(len(liste_indice_note))\n",
    "    for k in range (len(liste_indice_note)):\n",
    "        res[k]= gamme[liste_indice_note[k]]\n",
    "    return res\n",
    "\n",
    "print(creation_liste_note(220,[1,2,3]))\n",
    "\n",
    "def suite_note(liste_note,liste_duree_note):\n",
    "    fe = 44100  \n",
    "    te = 1/fe\n",
    "    x_total = []\n",
    "    for i in range (len(liste_note)):\n",
    "        t= np.arange(0, liste_duree_note[i], te)\n",
    "        x_tampon = son(liste_note[i],liste_duree_note[i])\n",
    "        x_total = np.concatenate((x_total,x_tampon))\n",
    "    somme_duree_note = 0\n",
    "    for k in range (len(liste_duree_note)):\n",
    "        somme_duree_note += liste_duree_note[k]\n",
    "    time = np.arange(0,somme_duree_note,te)\n",
    "    #plt.figure(1)\n",
    "    #plt.plot(time,x_total)\n",
    "    #plt.figure(2)\n",
    "    #plt.plot(liste_note)\n",
    "    #playsound(file_name)\n",
    "    return x_total\n",
    "\n",
    "def creer_fichier(file_name , suiteNote):\n",
    "    file(file_name,suiteNote,44100)\n",
    "    \n",
    "\n",
    "#suite_note('Octave10.wav',Gamme_temperée(1,440),0.5)\n",
    "\n",
    "\n",
    "#a = suite_note('Octave7.wav',Gamme_temperée(2,440),0.5)\n",
    "\n",
    "\n",
    "def creation_duree(liste_valeur,tempo):\n",
    "    FreqNOIRE = tempo/60 #Hz\n",
    "    d_NOIRE = 1/FreqNOIRE\n",
    "    duree_note = []\n",
    "    duree_note[:] = [4*d_NOIRE/x for x in liste_valeur]\n",
    "    return duree_note\n",
    "\n",
    "liste_test_Marseillaise = [3,3,3,8,8,10,10,15]\n",
    "duree_note_test_Marseillaise = [0.5,0.5,0.5,1,1,1,0.5,2]\n",
    "liste_note_test_Marseillaise = creation_liste_note(220,liste_test_Marseillaise)\n",
    "\n",
    "liste_test_YN = [12,11,12,13,0,12,11,12,13,12,0,12,11,12,19,18]\n",
    "duree_note_test_YN = [0.5,0.5,0.5,0.5,0.5,1,0.5,0.5,0.5,0.5,0.5,1,0.5,0.5,0.5,1,1]\n",
    "duree_note_test_YN[:] = [x * 0.7 for x in duree_note_test_YN]\n",
    "liste_note_test_YN = creation_liste_note(110,liste_test_YN)\n",
    "\n",
    "\n",
    "liste_test_indice = [3,5,7,8,7,5]\n",
    "liste_test_duree = creation_duree([4,8,8,4,4,1],80)\n",
    "liste_note_test = creation_liste_note(220,liste_test_indice)\n",
    "\n",
    "suite_note_test = suite_note(liste_note_test,liste_test_duree) \n",
    "\n",
    "TEST = creer_fichier('TESTexo25.wav',suite_note_test)\n",
    "playsound('TESTexo25.wav')\n",
    "\n",
    "#print(Octave(3,220))\n",
    "\n",
    "#f , By = calcul_periodogramme(a,44100)\n",
    "#plt.plot(f,By,'r')\n",
    "plt.axis([1, 1.1,-1,1])\n",
    "plt.figure(3)\n",
    "plt.psd(suite_note_test, 1024,100)\n",
    "\n",
    "plt.show()\n",
    "\n",
    "\n"
   ]
  },
  {
   "cell_type": "code",
   "execution_count": null,
   "metadata": {},
   "outputs": [],
   "source": []
  },
  {
   "cell_type": "code",
   "execution_count": null,
   "metadata": {},
   "outputs": [],
   "source": []
  }
 ],
 "metadata": {
  "kernelspec": {
   "display_name": "Python 3",
   "language": "python",
   "name": "python3"
  },
  "language_info": {
   "codemirror_mode": {
    "name": "ipython",
    "version": 3
   },
   "file_extension": ".py",
   "mimetype": "text/x-python",
   "name": "python",
   "nbconvert_exporter": "python",
   "pygments_lexer": "ipython3",
   "version": "3.7.1"
  }
 },
 "nbformat": 4,
 "nbformat_minor": 2
}
